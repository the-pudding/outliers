{
 "cells": [
  {
   "cell_type": "markdown",
   "id": "fe5c2c88-a1ea-429e-a134-78d7a9836d30",
   "metadata": {},
   "source": [
    "# Format city data"
   ]
  },
  {
   "cell_type": "code",
   "execution_count": 1,
   "id": "4c47f62b-a47c-4940-98b4-9651aec895af",
   "metadata": {},
   "outputs": [],
   "source": [
    "import os\n",
    "from pathlib import Path\n",
    "\n",
    "import numpy as np\n",
    "import pandas as pd\n",
    "import geopandas as gd"
   ]
  },
  {
   "cell_type": "code",
   "execution_count": 2,
   "id": "aa5c86f6-f930-473f-b1d8-d211eb9c8cc3",
   "metadata": {},
   "outputs": [
    {
     "data": {
      "text/plain": [
       "PosixPath('/Users/kelud/Code/outliers/tasks/census')"
      ]
     },
     "execution_count": 2,
     "metadata": {},
     "output_type": "execute_result"
    }
   ],
   "source": [
    "BASE_DIR = Path.cwd()\n",
    "BASE_DIR"
   ]
  },
  {
   "cell_type": "code",
   "execution_count": 3,
   "id": "723d197d-faec-4cf4-a1ab-dd1723a3cf4d",
   "metadata": {},
   "outputs": [
    {
     "data": {
      "text/plain": [
       "PosixPath('/Users/kelud/Code/outliers/tasks/census/data')"
      ]
     },
     "execution_count": 3,
     "metadata": {},
     "output_type": "execute_result"
    }
   ],
   "source": [
    "DATA_DIR = BASE_DIR.joinpath('data')\n",
    "DATA_DIR"
   ]
  },
  {
   "cell_type": "code",
   "execution_count": 4,
   "id": "5b2cff12-e3ff-43e3-b42a-21ca22d40c31",
   "metadata": {},
   "outputs": [
    {
     "data": {
      "text/plain": [
       "PosixPath('/Users/kelud/Code/outliers/src/data')"
      ]
     },
     "execution_count": 4,
     "metadata": {},
     "output_type": "execute_result"
    }
   ],
   "source": [
    "EXPORT_DIR = BASE_DIR.parent.parent.joinpath(\"src/data\")\n",
    "EXPORT_DIR"
   ]
  },
  {
   "cell_type": "code",
   "execution_count": 5,
   "id": "65d24e2c-4823-4c48-a8ad-1c7b0a9fda2d",
   "metadata": {},
   "outputs": [
    {
     "data": {
      "text/plain": [
       "[PosixPath('/Users/kelud/Code/outliers/tasks/census/data/place-migration-raw.csv'),\n",
       " PosixPath('/Users/kelud/Code/outliers/tasks/census/data/nhgis0003_ds176_20105_place.csv'),\n",
       " PosixPath('/Users/kelud/Code/outliers/tasks/census/data/place_shp.zip')]"
      ]
     },
     "execution_count": 5,
     "metadata": {},
     "output_type": "execute_result"
    }
   ],
   "source": [
    "[f for f in DATA_DIR.iterdir()]"
   ]
  },
  {
   "cell_type": "markdown",
   "id": "ab46cfaf-7157-47e9-9b82-2745d3e75627",
   "metadata": {},
   "source": [
    "## load raw census data"
   ]
  },
  {
   "cell_type": "markdown",
   "id": "2e3f4341-54a2-4b78-856f-50ed6f38b698",
   "metadata": {},
   "source": [
    "Storing data from [U.S. census \"The Great Migration, 1910 to 1970\"](https://www.census.gov/dataviz/visualizations/020/508.php) as a string for simplicity"
   ]
  },
  {
   "cell_type": "code",
   "execution_count": 6,
   "id": "394a1d1c-1648-4e78-86eb-5e06adf47f86",
   "metadata": {},
   "outputs": [],
   "source": [
    "[ census_csv, nhgis_csv, place_shp ] = [f for f in DATA_DIR.iterdir()]"
   ]
  },
  {
   "cell_type": "markdown",
   "id": "6bb4fc91-caa7-4a7a-9efe-cffa26ad7ad2",
   "metadata": {},
   "source": [
    "Split the city/state string into separate columns"
   ]
  },
  {
   "cell_type": "code",
   "execution_count": 7,
   "id": "bc7eaf7d-2e19-4c1a-b969-11125e6544c6",
   "metadata": {},
   "outputs": [
    {
     "data": {
      "text/html": [
       "<div>\n",
       "<style scoped>\n",
       "    .dataframe tbody tr th:only-of-type {\n",
       "        vertical-align: middle;\n",
       "    }\n",
       "\n",
       "    .dataframe tbody tr th {\n",
       "        vertical-align: top;\n",
       "    }\n",
       "\n",
       "    .dataframe thead th {\n",
       "        text-align: right;\n",
       "    }\n",
       "</style>\n",
       "<table border=\"1\" class=\"dataframe\">\n",
       "  <thead>\n",
       "    <tr style=\"text-align: right;\">\n",
       "      <th></th>\n",
       "      <th>city_and_state</th>\n",
       "      <th>black_pop_pct_chg_1940_1970</th>\n",
       "      <th>black_pop_pct_chg_1910_1940</th>\n",
       "      <th>city</th>\n",
       "      <th>state</th>\n",
       "    </tr>\n",
       "  </thead>\n",
       "  <tbody>\n",
       "    <tr>\n",
       "      <th>0</th>\n",
       "      <td>Aberdeen, SD</td>\n",
       "      <td>-0.5</td>\n",
       "      <td>0</td>\n",
       "      <td>Aberdeen</td>\n",
       "      <td>SD</td>\n",
       "    </tr>\n",
       "    <tr>\n",
       "      <th>1</th>\n",
       "      <td>Abilene, TX</td>\n",
       "      <td>-0.8</td>\n",
       "      <td>0.1</td>\n",
       "      <td>Abilene</td>\n",
       "      <td>TX</td>\n",
       "    </tr>\n",
       "    <tr>\n",
       "      <th>2</th>\n",
       "      <td>Akron, OH</td>\n",
       "      <td>4.1</td>\n",
       "      <td>12.5</td>\n",
       "      <td>Akron</td>\n",
       "      <td>OH</td>\n",
       "    </tr>\n",
       "    <tr>\n",
       "      <th>3</th>\n",
       "      <td>Albany, NY</td>\n",
       "      <td>1.2</td>\n",
       "      <td>10</td>\n",
       "      <td>Albany</td>\n",
       "      <td>NY</td>\n",
       "    </tr>\n",
       "    <tr>\n",
       "      <th>4</th>\n",
       "      <td>Albuquerque, NM</td>\n",
       "      <td>-0.7</td>\n",
       "      <td>0.7</td>\n",
       "      <td>Albuquerque</td>\n",
       "      <td>NM</td>\n",
       "    </tr>\n",
       "  </tbody>\n",
       "</table>\n",
       "</div>"
      ],
      "text/plain": [
       "    city_and_state black_pop_pct_chg_1940_1970 black_pop_pct_chg_1910_1940  \\\n",
       "0     Aberdeen, SD                        -0.5                           0   \n",
       "1      Abilene, TX                        -0.8                         0.1   \n",
       "2        Akron, OH                         4.1                        12.5   \n",
       "3       Albany, NY                         1.2                          10   \n",
       "4  Albuquerque, NM                        -0.7                         0.7   \n",
       "\n",
       "          city state  \n",
       "0     Aberdeen    SD  \n",
       "1      Abilene    TX  \n",
       "2        Akron    OH  \n",
       "3       Albany    NY  \n",
       "4  Albuquerque    NM  "
      ]
     },
     "execution_count": 7,
     "metadata": {},
     "output_type": "execute_result"
    }
   ],
   "source": [
    "census_df = pd.read_csv(census_csv)\n",
    "census_df[['city', 'state']] = census_df['city_and_state'].str.split(',', 1, expand=True)\n",
    "census_df['city'] = census_df['city'].str.strip()\n",
    "census_df['state'] = census_df['state'].str.strip()\n",
    "census_df.head()"
   ]
  },
  {
   "cell_type": "code",
   "execution_count": 8,
   "id": "39a5df07-ef1a-4d58-84e5-236e70914629",
   "metadata": {},
   "outputs": [
    {
     "name": "stdout",
     "output_type": "stream",
     "text": [
      "<class 'pandas.core.frame.DataFrame'>\n",
      "RangeIndex: 246 entries, 0 to 245\n",
      "Data columns (total 5 columns):\n",
      " #   Column                       Non-Null Count  Dtype \n",
      "---  ------                       --------------  ----- \n",
      " 0   city_and_state               246 non-null    object\n",
      " 1   black_pop_pct_chg_1940_1970  246 non-null    object\n",
      " 2   black_pop_pct_chg_1910_1940  246 non-null    object\n",
      " 3   city                         246 non-null    object\n",
      " 4   state                        246 non-null    object\n",
      "dtypes: object(5)\n",
      "memory usage: 9.7+ KB\n"
     ]
    }
   ],
   "source": [
    "census_df.info()"
   ]
  },
  {
   "cell_type": "markdown",
   "id": "6edb1ac4-06ed-4be3-b103-ed39cea7b3b4",
   "metadata": {},
   "source": [
    "Add state fips from `us` package"
   ]
  },
  {
   "cell_type": "markdown",
   "id": "a7380dd1-c55e-4dc3-9247-26c90154ab18",
   "metadata": {},
   "source": [
    "Ensure DC appears by setting `DC_STATEHOOD=1` in `.env` file **(doesn't work)**"
   ]
  },
  {
   "cell_type": "code",
   "execution_count": 9,
   "id": "2dea2870-7c68-4139-a58b-54f64ab70ccd",
   "metadata": {},
   "outputs": [],
   "source": [
    "%load_ext dotenv\n",
    "%dotenv"
   ]
  },
  {
   "cell_type": "code",
   "execution_count": 10,
   "id": "59d032e0-dc51-4194-8f8d-005826a9ade9",
   "metadata": {},
   "outputs": [],
   "source": [
    "import us"
   ]
  },
  {
   "cell_type": "code",
   "execution_count": 11,
   "id": "38a8e594-44c9-4bcd-b120-6b77dfe22d94",
   "metadata": {},
   "outputs": [],
   "source": [
    "def get_state_fips(state_abbr):\n",
    "    match = [s for s in us.STATES if s.abbr == state_abbr]\n",
    "    if len(match) > 0:\n",
    "        return match[0].fips\n",
    "    elif state_abbr == 'DC':\n",
    "        # `python-us` should handle this but it doesn't so manually adding the fips\n",
    "        return '11'\n",
    "    else:\n",
    "        return np.nan"
   ]
  },
  {
   "cell_type": "code",
   "execution_count": 12,
   "id": "babfcd52-25b1-4cff-85cb-3e4a1a9281aa",
   "metadata": {},
   "outputs": [
    {
     "data": {
      "text/html": [
       "<div>\n",
       "<style scoped>\n",
       "    .dataframe tbody tr th:only-of-type {\n",
       "        vertical-align: middle;\n",
       "    }\n",
       "\n",
       "    .dataframe tbody tr th {\n",
       "        vertical-align: top;\n",
       "    }\n",
       "\n",
       "    .dataframe thead th {\n",
       "        text-align: right;\n",
       "    }\n",
       "</style>\n",
       "<table border=\"1\" class=\"dataframe\">\n",
       "  <thead>\n",
       "    <tr style=\"text-align: right;\">\n",
       "      <th></th>\n",
       "      <th>city_and_state</th>\n",
       "      <th>black_pop_pct_chg_1940_1970</th>\n",
       "      <th>black_pop_pct_chg_1910_1940</th>\n",
       "      <th>city</th>\n",
       "      <th>state</th>\n",
       "      <th>state_fips</th>\n",
       "    </tr>\n",
       "  </thead>\n",
       "  <tbody>\n",
       "    <tr>\n",
       "      <th>0</th>\n",
       "      <td>Aberdeen, SD</td>\n",
       "      <td>-0.5</td>\n",
       "      <td>0</td>\n",
       "      <td>Aberdeen</td>\n",
       "      <td>SD</td>\n",
       "      <td>46</td>\n",
       "    </tr>\n",
       "    <tr>\n",
       "      <th>1</th>\n",
       "      <td>Abilene, TX</td>\n",
       "      <td>-0.8</td>\n",
       "      <td>0.1</td>\n",
       "      <td>Abilene</td>\n",
       "      <td>TX</td>\n",
       "      <td>48</td>\n",
       "    </tr>\n",
       "    <tr>\n",
       "      <th>2</th>\n",
       "      <td>Akron, OH</td>\n",
       "      <td>4.1</td>\n",
       "      <td>12.5</td>\n",
       "      <td>Akron</td>\n",
       "      <td>OH</td>\n",
       "      <td>39</td>\n",
       "    </tr>\n",
       "    <tr>\n",
       "      <th>3</th>\n",
       "      <td>Albany, NY</td>\n",
       "      <td>1.2</td>\n",
       "      <td>10</td>\n",
       "      <td>Albany</td>\n",
       "      <td>NY</td>\n",
       "      <td>36</td>\n",
       "    </tr>\n",
       "    <tr>\n",
       "      <th>4</th>\n",
       "      <td>Albuquerque, NM</td>\n",
       "      <td>-0.7</td>\n",
       "      <td>0.7</td>\n",
       "      <td>Albuquerque</td>\n",
       "      <td>NM</td>\n",
       "      <td>35</td>\n",
       "    </tr>\n",
       "  </tbody>\n",
       "</table>\n",
       "</div>"
      ],
      "text/plain": [
       "    city_and_state black_pop_pct_chg_1940_1970 black_pop_pct_chg_1910_1940  \\\n",
       "0     Aberdeen, SD                        -0.5                           0   \n",
       "1      Abilene, TX                        -0.8                         0.1   \n",
       "2        Akron, OH                         4.1                        12.5   \n",
       "3       Albany, NY                         1.2                          10   \n",
       "4  Albuquerque, NM                        -0.7                         0.7   \n",
       "\n",
       "          city state state_fips  \n",
       "0     Aberdeen    SD         46  \n",
       "1      Abilene    TX         48  \n",
       "2        Akron    OH         39  \n",
       "3       Albany    NY         36  \n",
       "4  Albuquerque    NM         35  "
      ]
     },
     "execution_count": 12,
     "metadata": {},
     "output_type": "execute_result"
    }
   ],
   "source": [
    "census_df['state_fips'] = census_df[\"state\"].apply(get_state_fips)\n",
    "census_df.head()"
   ]
  },
  {
   "cell_type": "markdown",
   "id": "999ed0e0-a3fc-410c-ba5a-43cf6d0465b0",
   "metadata": {},
   "source": [
    "Cast `\"No Data\"` values as `np.nan` and cast values as a float and convert to be `-1, 1` inclusive"
   ]
  },
  {
   "cell_type": "code",
   "execution_count": 13,
   "id": "21c02316-d473-4685-a458-b629175c5d4a",
   "metadata": {},
   "outputs": [
    {
     "data": {
      "text/html": [
       "<div>\n",
       "<style scoped>\n",
       "    .dataframe tbody tr th:only-of-type {\n",
       "        vertical-align: middle;\n",
       "    }\n",
       "\n",
       "    .dataframe tbody tr th {\n",
       "        vertical-align: top;\n",
       "    }\n",
       "\n",
       "    .dataframe thead th {\n",
       "        text-align: right;\n",
       "    }\n",
       "</style>\n",
       "<table border=\"1\" class=\"dataframe\">\n",
       "  <thead>\n",
       "    <tr style=\"text-align: right;\">\n",
       "      <th></th>\n",
       "      <th>city_and_state</th>\n",
       "      <th>black_pop_pct_chg_1940_1970</th>\n",
       "      <th>black_pop_pct_chg_1910_1940</th>\n",
       "      <th>city</th>\n",
       "      <th>state</th>\n",
       "      <th>state_fips</th>\n",
       "    </tr>\n",
       "  </thead>\n",
       "  <tbody>\n",
       "    <tr>\n",
       "      <th>8</th>\n",
       "      <td>Anaheim, CA</td>\n",
       "      <td>No data</td>\n",
       "      <td>0</td>\n",
       "      <td>Anaheim</td>\n",
       "      <td>CA</td>\n",
       "      <td>06</td>\n",
       "    </tr>\n",
       "    <tr>\n",
       "      <th>9</th>\n",
       "      <td>Anchorage, AK</td>\n",
       "      <td>No data</td>\n",
       "      <td>No data</td>\n",
       "      <td>Anchorage</td>\n",
       "      <td>AK</td>\n",
       "      <td>02</td>\n",
       "    </tr>\n",
       "    <tr>\n",
       "      <th>14</th>\n",
       "      <td>Aurora, CO</td>\n",
       "      <td>No data</td>\n",
       "      <td>1</td>\n",
       "      <td>Aurora</td>\n",
       "      <td>CO</td>\n",
       "      <td>08</td>\n",
       "    </tr>\n",
       "    <tr>\n",
       "      <th>68</th>\n",
       "      <td>Fairbanks, AK</td>\n",
       "      <td>No data</td>\n",
       "      <td>No data</td>\n",
       "      <td>Fairbanks</td>\n",
       "      <td>AK</td>\n",
       "      <td>02</td>\n",
       "    </tr>\n",
       "    <tr>\n",
       "      <th>80</th>\n",
       "      <td>Glendale, AZ</td>\n",
       "      <td>No data</td>\n",
       "      <td>-0.3</td>\n",
       "      <td>Glendale</td>\n",
       "      <td>AZ</td>\n",
       "      <td>04</td>\n",
       "    </tr>\n",
       "    <tr>\n",
       "      <th>81</th>\n",
       "      <td>Glendale, CA</td>\n",
       "      <td>No data</td>\n",
       "      <td>0</td>\n",
       "      <td>Glendale</td>\n",
       "      <td>CA</td>\n",
       "      <td>06</td>\n",
       "    </tr>\n",
       "    <tr>\n",
       "      <th>93</th>\n",
       "      <td>Hilo, HI</td>\n",
       "      <td>No data</td>\n",
       "      <td>No data</td>\n",
       "      <td>Hilo</td>\n",
       "      <td>HI</td>\n",
       "      <td>15</td>\n",
       "    </tr>\n",
       "    <tr>\n",
       "      <th>94</th>\n",
       "      <td>Honolulu, HI</td>\n",
       "      <td>No data</td>\n",
       "      <td>No data</td>\n",
       "      <td>Honolulu</td>\n",
       "      <td>HI</td>\n",
       "      <td>15</td>\n",
       "    </tr>\n",
       "    <tr>\n",
       "      <th>96</th>\n",
       "      <td>Huntington Beach, CA</td>\n",
       "      <td>No data</td>\n",
       "      <td>No data</td>\n",
       "      <td>Huntington Beach</td>\n",
       "      <td>CA</td>\n",
       "      <td>06</td>\n",
       "    </tr>\n",
       "    <tr>\n",
       "      <th>105</th>\n",
       "      <td>Juneau, AK</td>\n",
       "      <td>No data</td>\n",
       "      <td>No data</td>\n",
       "      <td>Juneau</td>\n",
       "      <td>AK</td>\n",
       "      <td>02</td>\n",
       "    </tr>\n",
       "    <tr>\n",
       "      <th>113</th>\n",
       "      <td>Las Vegas, NV</td>\n",
       "      <td>No data</td>\n",
       "      <td>9.2</td>\n",
       "      <td>Las Vegas</td>\n",
       "      <td>NV</td>\n",
       "      <td>32</td>\n",
       "    </tr>\n",
       "    <tr>\n",
       "      <th>129</th>\n",
       "      <td>Mesa, AZ</td>\n",
       "      <td>No data</td>\n",
       "      <td>-3.3</td>\n",
       "      <td>Mesa</td>\n",
       "      <td>AZ</td>\n",
       "      <td>04</td>\n",
       "    </tr>\n",
       "    <tr>\n",
       "      <th>148</th>\n",
       "      <td>Newark, DE</td>\n",
       "      <td>No data</td>\n",
       "      <td>-8.4</td>\n",
       "      <td>Newark</td>\n",
       "      <td>DE</td>\n",
       "      <td>10</td>\n",
       "    </tr>\n",
       "    <tr>\n",
       "      <th>224</th>\n",
       "      <td>Tempe, AZ</td>\n",
       "      <td>No data</td>\n",
       "      <td>0.7</td>\n",
       "      <td>Tempe</td>\n",
       "      <td>AZ</td>\n",
       "      <td>04</td>\n",
       "    </tr>\n",
       "  </tbody>\n",
       "</table>\n",
       "</div>"
      ],
      "text/plain": [
       "           city_and_state black_pop_pct_chg_1940_1970  \\\n",
       "8             Anaheim, CA                     No data   \n",
       "9           Anchorage, AK                     No data   \n",
       "14             Aurora, CO                     No data   \n",
       "68          Fairbanks, AK                     No data   \n",
       "80           Glendale, AZ                     No data   \n",
       "81           Glendale, CA                     No data   \n",
       "93               Hilo, HI                     No data   \n",
       "94           Honolulu, HI                     No data   \n",
       "96   Huntington Beach, CA                     No data   \n",
       "105            Juneau, AK                     No data   \n",
       "113         Las Vegas, NV                     No data   \n",
       "129              Mesa, AZ                     No data   \n",
       "148            Newark, DE                     No data   \n",
       "224             Tempe, AZ                     No data   \n",
       "\n",
       "    black_pop_pct_chg_1910_1940              city state state_fips  \n",
       "8                             0           Anaheim    CA         06  \n",
       "9                       No data         Anchorage    AK         02  \n",
       "14                            1            Aurora    CO         08  \n",
       "68                      No data         Fairbanks    AK         02  \n",
       "80                         -0.3          Glendale    AZ         04  \n",
       "81                            0          Glendale    CA         06  \n",
       "93                      No data              Hilo    HI         15  \n",
       "94                      No data          Honolulu    HI         15  \n",
       "96                      No data  Huntington Beach    CA         06  \n",
       "105                     No data            Juneau    AK         02  \n",
       "113                         9.2         Las Vegas    NV         32  \n",
       "129                        -3.3              Mesa    AZ         04  \n",
       "148                        -8.4            Newark    DE         10  \n",
       "224                         0.7             Tempe    AZ         04  "
      ]
     },
     "execution_count": 13,
     "metadata": {},
     "output_type": "execute_result"
    }
   ],
   "source": [
    "MISSING_DATA = 'No data'\n",
    "\n",
    "census_df.query(f\"black_pop_pct_chg_1940_1970 == '{MISSING_DATA}' or black_pop_pct_chg_1910_1940 == '{MISSING_DATA}'\")"
   ]
  },
  {
   "cell_type": "code",
   "execution_count": 14,
   "id": "fd0abfd5-af28-4b42-8af7-2e0403adebca",
   "metadata": {},
   "outputs": [
    {
     "data": {
      "text/html": [
       "<div>\n",
       "<style scoped>\n",
       "    .dataframe tbody tr th:only-of-type {\n",
       "        vertical-align: middle;\n",
       "    }\n",
       "\n",
       "    .dataframe tbody tr th {\n",
       "        vertical-align: top;\n",
       "    }\n",
       "\n",
       "    .dataframe thead th {\n",
       "        text-align: right;\n",
       "    }\n",
       "</style>\n",
       "<table border=\"1\" class=\"dataframe\">\n",
       "  <thead>\n",
       "    <tr style=\"text-align: right;\">\n",
       "      <th></th>\n",
       "      <th>city_and_state</th>\n",
       "      <th>black_pop_pct_chg_1940_1970</th>\n",
       "      <th>black_pop_pct_chg_1910_1940</th>\n",
       "      <th>city</th>\n",
       "      <th>state</th>\n",
       "      <th>state_fips</th>\n",
       "    </tr>\n",
       "  </thead>\n",
       "  <tbody>\n",
       "  </tbody>\n",
       "</table>\n",
       "</div>"
      ],
      "text/plain": [
       "Empty DataFrame\n",
       "Columns: [city_and_state, black_pop_pct_chg_1940_1970, black_pop_pct_chg_1910_1940, city, state, state_fips]\n",
       "Index: []"
      ]
     },
     "execution_count": 14,
     "metadata": {},
     "output_type": "execute_result"
    }
   ],
   "source": [
    "census_df['black_pop_pct_chg_1910_1940'] = census_df['black_pop_pct_chg_1910_1940'].replace(MISSING_DATA, np.nan).astype(float)\n",
    "census_df['black_pop_pct_chg_1940_1970'] = census_df['black_pop_pct_chg_1940_1970'].replace(MISSING_DATA, np.nan).astype(float)\n",
    "\n",
    "census_df['black_pop_pct_chg_1910_1940'] = census_df['black_pop_pct_chg_1910_1940'] / 100\n",
    "census_df['black_pop_pct_chg_1940_1970'] = census_df['black_pop_pct_chg_1940_1970'] / 100\n",
    "\n",
    "census_df.query(f\"black_pop_pct_chg_1940_1970 == '{MISSING_DATA}' or black_pop_pct_chg_1910_1940 == '{MISSING_DATA}'\")"
   ]
  },
  {
   "cell_type": "code",
   "execution_count": 15,
   "id": "797e5793-5634-4686-97fc-01fa2097997b",
   "metadata": {},
   "outputs": [
    {
     "name": "stdout",
     "output_type": "stream",
     "text": [
      "<class 'pandas.core.frame.DataFrame'>\n",
      "RangeIndex: 246 entries, 0 to 245\n",
      "Data columns (total 6 columns):\n",
      " #   Column                       Non-Null Count  Dtype  \n",
      "---  ------                       --------------  -----  \n",
      " 0   city_and_state               246 non-null    object \n",
      " 1   black_pop_pct_chg_1940_1970  232 non-null    float64\n",
      " 2   black_pop_pct_chg_1910_1940  240 non-null    float64\n",
      " 3   city                         246 non-null    object \n",
      " 4   state                        246 non-null    object \n",
      " 5   state_fips                   246 non-null    object \n",
      "dtypes: float64(2), object(4)\n",
      "memory usage: 11.7+ KB\n"
     ]
    }
   ],
   "source": [
    "census_df.info()"
   ]
  },
  {
   "cell_type": "markdown",
   "id": "220e5556-2db3-4908-9531-8d819a0bf07c",
   "metadata": {},
   "source": [
    "## load raw nhgis data"
   ]
  },
  {
   "cell_type": "code",
   "execution_count": 16,
   "id": "1694cc23-f90a-4e33-b7ed-574c36f2c6f0",
   "metadata": {},
   "outputs": [
    {
     "data": {
      "text/html": [
       "<div>\n",
       "<style scoped>\n",
       "    .dataframe tbody tr th:only-of-type {\n",
       "        vertical-align: middle;\n",
       "    }\n",
       "\n",
       "    .dataframe tbody tr th {\n",
       "        vertical-align: top;\n",
       "    }\n",
       "\n",
       "    .dataframe thead th {\n",
       "        text-align: right;\n",
       "    }\n",
       "</style>\n",
       "<table border=\"1\" class=\"dataframe\">\n",
       "  <thead>\n",
       "    <tr style=\"text-align: right;\">\n",
       "      <th></th>\n",
       "      <th>GISJOIN</th>\n",
       "      <th>state_full</th>\n",
       "      <th>state_fips</th>\n",
       "      <th>place</th>\n",
       "      <th>place_fips</th>\n",
       "      <th>place_full</th>\n",
       "    </tr>\n",
       "  </thead>\n",
       "  <tbody>\n",
       "    <tr>\n",
       "      <th>0</th>\n",
       "      <td>G01000100</td>\n",
       "      <td>Alabama</td>\n",
       "      <td>01</td>\n",
       "      <td>Abanda CDP</td>\n",
       "      <td>00100</td>\n",
       "      <td>Abanda CDP, Alabama</td>\n",
       "    </tr>\n",
       "    <tr>\n",
       "      <th>1</th>\n",
       "      <td>G01000124</td>\n",
       "      <td>Alabama</td>\n",
       "      <td>01</td>\n",
       "      <td>Abbeville city</td>\n",
       "      <td>00124</td>\n",
       "      <td>Abbeville city, Alabama</td>\n",
       "    </tr>\n",
       "    <tr>\n",
       "      <th>2</th>\n",
       "      <td>G01000460</td>\n",
       "      <td>Alabama</td>\n",
       "      <td>01</td>\n",
       "      <td>Adamsville city</td>\n",
       "      <td>00460</td>\n",
       "      <td>Adamsville city, Alabama</td>\n",
       "    </tr>\n",
       "    <tr>\n",
       "      <th>3</th>\n",
       "      <td>G01000484</td>\n",
       "      <td>Alabama</td>\n",
       "      <td>01</td>\n",
       "      <td>Addison town</td>\n",
       "      <td>00484</td>\n",
       "      <td>Addison town, Alabama</td>\n",
       "    </tr>\n",
       "    <tr>\n",
       "      <th>4</th>\n",
       "      <td>G01000676</td>\n",
       "      <td>Alabama</td>\n",
       "      <td>01</td>\n",
       "      <td>Akron town</td>\n",
       "      <td>00676</td>\n",
       "      <td>Akron town, Alabama</td>\n",
       "    </tr>\n",
       "  </tbody>\n",
       "</table>\n",
       "</div>"
      ],
      "text/plain": [
       "     GISJOIN state_full state_fips            place place_fips  \\\n",
       "0  G01000100    Alabama         01       Abanda CDP      00100   \n",
       "1  G01000124    Alabama         01   Abbeville city      00124   \n",
       "2  G01000460    Alabama         01  Adamsville city      00460   \n",
       "3  G01000484    Alabama         01     Addison town      00484   \n",
       "4  G01000676    Alabama         01       Akron town      00676   \n",
       "\n",
       "                 place_full  \n",
       "0       Abanda CDP, Alabama  \n",
       "1   Abbeville city, Alabama  \n",
       "2  Adamsville city, Alabama  \n",
       "3     Addison town, Alabama  \n",
       "4       Akron town, Alabama  "
      ]
     },
     "execution_count": 16,
     "metadata": {},
     "output_type": "execute_result"
    }
   ],
   "source": [
    "fields = [\"GISJOIN\", \"STATE\", \"STATEA\", \"PLACE\", \"PLACEA\", \"NAME_M\"]\n",
    "nhgis_df = pd.read_csv(\n",
    "    nhgis_csv, \n",
    "    encoding='unicode_escape', \n",
    "    engine ='python', \n",
    "    usecols=fields, \n",
    "    dtype={\n",
    "        'STATEA': str,\n",
    "        'PLACEA': str,\n",
    "    },\n",
    ").rename(\n",
    "    columns={\n",
    "        'STATEA': 'state_fips',\n",
    "        'STATE': 'state_full',\n",
    "        'PLACE': 'place',\n",
    "        'PLACEA': 'place_fips',\n",
    "        'NAME_M': 'place_full',\n",
    "    }\n",
    ")\n",
    "nhgis_df.head()"
   ]
  },
  {
   "cell_type": "code",
   "execution_count": 17,
   "id": "565733ea-6943-4dc2-a992-244c8238f07f",
   "metadata": {},
   "outputs": [
    {
     "data": {
      "text/html": [
       "<div>\n",
       "<style scoped>\n",
       "    .dataframe tbody tr th:only-of-type {\n",
       "        vertical-align: middle;\n",
       "    }\n",
       "\n",
       "    .dataframe tbody tr th {\n",
       "        vertical-align: top;\n",
       "    }\n",
       "\n",
       "    .dataframe thead th {\n",
       "        text-align: right;\n",
       "    }\n",
       "</style>\n",
       "<table border=\"1\" class=\"dataframe\">\n",
       "  <thead>\n",
       "    <tr style=\"text-align: right;\">\n",
       "      <th></th>\n",
       "      <th>GISJOIN</th>\n",
       "      <th>state_full</th>\n",
       "      <th>state_fips</th>\n",
       "      <th>place</th>\n",
       "      <th>place_fips</th>\n",
       "      <th>place_full</th>\n",
       "    </tr>\n",
       "  </thead>\n",
       "  <tbody>\n",
       "    <tr>\n",
       "      <th>4124</th>\n",
       "      <td>G11050000</td>\n",
       "      <td>District Of Columbia</td>\n",
       "      <td>11</td>\n",
       "      <td>Washington city</td>\n",
       "      <td>50000</td>\n",
       "      <td>Washington city, District of Columbia</td>\n",
       "    </tr>\n",
       "  </tbody>\n",
       "</table>\n",
       "</div>"
      ],
      "text/plain": [
       "        GISJOIN            state_full state_fips            place place_fips  \\\n",
       "4124  G11050000  District Of Columbia         11  Washington city      50000   \n",
       "\n",
       "                                 place_full  \n",
       "4124  Washington city, District of Columbia  "
      ]
     },
     "execution_count": 17,
     "metadata": {},
     "output_type": "execute_result"
    }
   ],
   "source": [
    "nhgis_df.query('state_fips == \"11\"')"
   ]
  },
  {
   "cell_type": "code",
   "execution_count": 18,
   "id": "a524b321-c109-44f4-a299-9597c6eef0a8",
   "metadata": {},
   "outputs": [],
   "source": [
    "def split_place_name(place):\n",
    "    keys = ['city', 'town', 'CDP']\n",
    "    if 'city' in place:\n",
    "        [city, _] = place.split(\"city\")\n",
    "        return city.strip()\n",
    "    else:\n",
    "        return np.nan"
   ]
  },
  {
   "cell_type": "code",
   "execution_count": 19,
   "id": "d56e225b-adaf-43a6-8b5f-669748f8785d",
   "metadata": {},
   "outputs": [],
   "source": [
    "def get_state_abbr(fips):\n",
    "    match = [s for s in us.STATES if s.fips == fips]\n",
    "    if len(match) > 0:\n",
    "        return match[0].abbr\n",
    "    elif fips == \"11\":\n",
    "        return \"DC\"\n",
    "    else:\n",
    "        return np.nan"
   ]
  },
  {
   "cell_type": "code",
   "execution_count": 20,
   "id": "1da8ef48-a247-4374-ba51-358191069102",
   "metadata": {},
   "outputs": [],
   "source": [
    "nhgis_df['city'] = nhgis_df.place.apply(split_place_name)\n",
    "nhgis_df['state'] = nhgis_df.state_fips.apply(get_state_abbr)"
   ]
  },
  {
   "cell_type": "code",
   "execution_count": 21,
   "id": "2e317072-659e-44c6-984a-6c4ea6baba1b",
   "metadata": {},
   "outputs": [
    {
     "data": {
      "text/html": [
       "<div>\n",
       "<style scoped>\n",
       "    .dataframe tbody tr th:only-of-type {\n",
       "        vertical-align: middle;\n",
       "    }\n",
       "\n",
       "    .dataframe tbody tr th {\n",
       "        vertical-align: top;\n",
       "    }\n",
       "\n",
       "    .dataframe thead th {\n",
       "        text-align: right;\n",
       "    }\n",
       "</style>\n",
       "<table border=\"1\" class=\"dataframe\">\n",
       "  <thead>\n",
       "    <tr style=\"text-align: right;\">\n",
       "      <th></th>\n",
       "      <th>GISJOIN</th>\n",
       "      <th>state_full</th>\n",
       "      <th>state_fips</th>\n",
       "      <th>place</th>\n",
       "      <th>place_fips</th>\n",
       "      <th>place_full</th>\n",
       "      <th>city</th>\n",
       "      <th>state</th>\n",
       "    </tr>\n",
       "  </thead>\n",
       "  <tbody>\n",
       "    <tr>\n",
       "      <th>0</th>\n",
       "      <td>G01000100</td>\n",
       "      <td>Alabama</td>\n",
       "      <td>01</td>\n",
       "      <td>Abanda CDP</td>\n",
       "      <td>00100</td>\n",
       "      <td>Abanda CDP, Alabama</td>\n",
       "      <td>NaN</td>\n",
       "      <td>AL</td>\n",
       "    </tr>\n",
       "    <tr>\n",
       "      <th>1</th>\n",
       "      <td>G01000124</td>\n",
       "      <td>Alabama</td>\n",
       "      <td>01</td>\n",
       "      <td>Abbeville city</td>\n",
       "      <td>00124</td>\n",
       "      <td>Abbeville city, Alabama</td>\n",
       "      <td>Abbeville</td>\n",
       "      <td>AL</td>\n",
       "    </tr>\n",
       "    <tr>\n",
       "      <th>2</th>\n",
       "      <td>G01000460</td>\n",
       "      <td>Alabama</td>\n",
       "      <td>01</td>\n",
       "      <td>Adamsville city</td>\n",
       "      <td>00460</td>\n",
       "      <td>Adamsville city, Alabama</td>\n",
       "      <td>Adamsville</td>\n",
       "      <td>AL</td>\n",
       "    </tr>\n",
       "    <tr>\n",
       "      <th>3</th>\n",
       "      <td>G01000484</td>\n",
       "      <td>Alabama</td>\n",
       "      <td>01</td>\n",
       "      <td>Addison town</td>\n",
       "      <td>00484</td>\n",
       "      <td>Addison town, Alabama</td>\n",
       "      <td>NaN</td>\n",
       "      <td>AL</td>\n",
       "    </tr>\n",
       "    <tr>\n",
       "      <th>4</th>\n",
       "      <td>G01000676</td>\n",
       "      <td>Alabama</td>\n",
       "      <td>01</td>\n",
       "      <td>Akron town</td>\n",
       "      <td>00676</td>\n",
       "      <td>Akron town, Alabama</td>\n",
       "      <td>NaN</td>\n",
       "      <td>AL</td>\n",
       "    </tr>\n",
       "  </tbody>\n",
       "</table>\n",
       "</div>"
      ],
      "text/plain": [
       "     GISJOIN state_full state_fips            place place_fips  \\\n",
       "0  G01000100    Alabama         01       Abanda CDP      00100   \n",
       "1  G01000124    Alabama         01   Abbeville city      00124   \n",
       "2  G01000460    Alabama         01  Adamsville city      00460   \n",
       "3  G01000484    Alabama         01     Addison town      00484   \n",
       "4  G01000676    Alabama         01       Akron town      00676   \n",
       "\n",
       "                 place_full        city state  \n",
       "0       Abanda CDP, Alabama         NaN    AL  \n",
       "1   Abbeville city, Alabama   Abbeville    AL  \n",
       "2  Adamsville city, Alabama  Adamsville    AL  \n",
       "3     Addison town, Alabama         NaN    AL  \n",
       "4       Akron town, Alabama         NaN    AL  "
      ]
     },
     "execution_count": 21,
     "metadata": {},
     "output_type": "execute_result"
    }
   ],
   "source": [
    "nhgis_df.head()"
   ]
  },
  {
   "cell_type": "markdown",
   "id": "c2adcbd4-52b4-4a34-9a68-a22a4d890b47",
   "metadata": {},
   "source": [
    "## Match raw census data to NHGIS csv extract"
   ]
  },
  {
   "cell_type": "code",
   "execution_count": 22,
   "id": "91144b12-5a58-4dac-9d07-3ad660c45392",
   "metadata": {},
   "outputs": [
    {
     "data": {
      "text/html": [
       "<div>\n",
       "<style scoped>\n",
       "    .dataframe tbody tr th:only-of-type {\n",
       "        vertical-align: middle;\n",
       "    }\n",
       "\n",
       "    .dataframe tbody tr th {\n",
       "        vertical-align: top;\n",
       "    }\n",
       "\n",
       "    .dataframe thead th {\n",
       "        text-align: right;\n",
       "    }\n",
       "</style>\n",
       "<table border=\"1\" class=\"dataframe\">\n",
       "  <thead>\n",
       "    <tr style=\"text-align: right;\">\n",
       "      <th></th>\n",
       "      <th>city_and_state</th>\n",
       "      <th>black_pop_pct_chg_1940_1970</th>\n",
       "      <th>black_pop_pct_chg_1910_1940</th>\n",
       "      <th>city</th>\n",
       "      <th>state</th>\n",
       "      <th>state_fips</th>\n",
       "      <th>GISJOIN</th>\n",
       "      <th>state_full</th>\n",
       "      <th>place</th>\n",
       "    </tr>\n",
       "  </thead>\n",
       "  <tbody>\n",
       "    <tr>\n",
       "      <th>0</th>\n",
       "      <td>Aberdeen, SD</td>\n",
       "      <td>-0.005</td>\n",
       "      <td>0.000</td>\n",
       "      <td>Aberdeen</td>\n",
       "      <td>SD</td>\n",
       "      <td>46</td>\n",
       "      <td>G46000100</td>\n",
       "      <td>South Dakota</td>\n",
       "      <td>Aberdeen city</td>\n",
       "    </tr>\n",
       "    <tr>\n",
       "      <th>1</th>\n",
       "      <td>Abilene, TX</td>\n",
       "      <td>-0.008</td>\n",
       "      <td>0.001</td>\n",
       "      <td>Abilene</td>\n",
       "      <td>TX</td>\n",
       "      <td>48</td>\n",
       "      <td>G48001000</td>\n",
       "      <td>Texas</td>\n",
       "      <td>Abilene city</td>\n",
       "    </tr>\n",
       "    <tr>\n",
       "      <th>2</th>\n",
       "      <td>Akron, OH</td>\n",
       "      <td>0.041</td>\n",
       "      <td>0.125</td>\n",
       "      <td>Akron</td>\n",
       "      <td>OH</td>\n",
       "      <td>39</td>\n",
       "      <td>G39001000</td>\n",
       "      <td>Ohio</td>\n",
       "      <td>Akron city</td>\n",
       "    </tr>\n",
       "    <tr>\n",
       "      <th>3</th>\n",
       "      <td>Albany, NY</td>\n",
       "      <td>0.012</td>\n",
       "      <td>0.100</td>\n",
       "      <td>Albany</td>\n",
       "      <td>NY</td>\n",
       "      <td>36</td>\n",
       "      <td>G36001000</td>\n",
       "      <td>New York</td>\n",
       "      <td>Albany city</td>\n",
       "    </tr>\n",
       "    <tr>\n",
       "      <th>4</th>\n",
       "      <td>Albuquerque, NM</td>\n",
       "      <td>-0.007</td>\n",
       "      <td>0.007</td>\n",
       "      <td>Albuquerque</td>\n",
       "      <td>NM</td>\n",
       "      <td>35</td>\n",
       "      <td>G35002000</td>\n",
       "      <td>New Mexico</td>\n",
       "      <td>Albuquerque city</td>\n",
       "    </tr>\n",
       "  </tbody>\n",
       "</table>\n",
       "</div>"
      ],
      "text/plain": [
       "    city_and_state  black_pop_pct_chg_1940_1970  black_pop_pct_chg_1910_1940  \\\n",
       "0     Aberdeen, SD                       -0.005                        0.000   \n",
       "1      Abilene, TX                       -0.008                        0.001   \n",
       "2        Akron, OH                        0.041                        0.125   \n",
       "3       Albany, NY                        0.012                        0.100   \n",
       "4  Albuquerque, NM                       -0.007                        0.007   \n",
       "\n",
       "          city state state_fips    GISJOIN    state_full             place  \n",
       "0     Aberdeen    SD         46  G46000100  South Dakota     Aberdeen city  \n",
       "1      Abilene    TX         48  G48001000         Texas      Abilene city  \n",
       "2        Akron    OH         39  G39001000          Ohio        Akron city  \n",
       "3       Albany    NY         36  G36001000      New York       Albany city  \n",
       "4  Albuquerque    NM         35  G35002000    New Mexico  Albuquerque city  "
      ]
     },
     "execution_count": 22,
     "metadata": {},
     "output_type": "execute_result"
    }
   ],
   "source": [
    "df = pd.merge(\n",
    "    census_df,\n",
    "    nhgis_df, \n",
    "    how='left',\n",
    "    on=['city', 'state', 'state_fips']\n",
    ")\n",
    "df.drop(columns=['place_fips', 'place_full'], inplace=True)\n",
    "df.head()"
   ]
  },
  {
   "cell_type": "markdown",
   "id": "784c1d88-69a8-4e1b-8b65-1adaf2597657",
   "metadata": {},
   "source": [
    "Cast percent change columns as float and convert to values between -1.0 and 1.0"
   ]
  },
  {
   "cell_type": "code",
   "execution_count": 23,
   "id": "c4056444-ddd0-43dc-ae15-94cb2ccbc7da",
   "metadata": {},
   "outputs": [
    {
     "data": {
      "text/html": [
       "<div>\n",
       "<style scoped>\n",
       "    .dataframe tbody tr th:only-of-type {\n",
       "        vertical-align: middle;\n",
       "    }\n",
       "\n",
       "    .dataframe tbody tr th {\n",
       "        vertical-align: top;\n",
       "    }\n",
       "\n",
       "    .dataframe thead th {\n",
       "        text-align: right;\n",
       "    }\n",
       "</style>\n",
       "<table border=\"1\" class=\"dataframe\">\n",
       "  <thead>\n",
       "    <tr style=\"text-align: right;\">\n",
       "      <th></th>\n",
       "      <th>city_and_state</th>\n",
       "      <th>black_pop_pct_chg_1940_1970</th>\n",
       "      <th>black_pop_pct_chg_1910_1940</th>\n",
       "      <th>city</th>\n",
       "      <th>state</th>\n",
       "      <th>state_fips</th>\n",
       "      <th>GISJOIN</th>\n",
       "      <th>state_full</th>\n",
       "      <th>place</th>\n",
       "    </tr>\n",
       "  </thead>\n",
       "  <tbody>\n",
       "    <tr>\n",
       "      <th>0</th>\n",
       "      <td>Aberdeen, SD</td>\n",
       "      <td>-0.005</td>\n",
       "      <td>0.000</td>\n",
       "      <td>Aberdeen</td>\n",
       "      <td>SD</td>\n",
       "      <td>46</td>\n",
       "      <td>G46000100</td>\n",
       "      <td>South Dakota</td>\n",
       "      <td>Aberdeen city</td>\n",
       "    </tr>\n",
       "    <tr>\n",
       "      <th>1</th>\n",
       "      <td>Abilene, TX</td>\n",
       "      <td>-0.008</td>\n",
       "      <td>0.001</td>\n",
       "      <td>Abilene</td>\n",
       "      <td>TX</td>\n",
       "      <td>48</td>\n",
       "      <td>G48001000</td>\n",
       "      <td>Texas</td>\n",
       "      <td>Abilene city</td>\n",
       "    </tr>\n",
       "    <tr>\n",
       "      <th>2</th>\n",
       "      <td>Akron, OH</td>\n",
       "      <td>0.041</td>\n",
       "      <td>0.125</td>\n",
       "      <td>Akron</td>\n",
       "      <td>OH</td>\n",
       "      <td>39</td>\n",
       "      <td>G39001000</td>\n",
       "      <td>Ohio</td>\n",
       "      <td>Akron city</td>\n",
       "    </tr>\n",
       "    <tr>\n",
       "      <th>3</th>\n",
       "      <td>Albany, NY</td>\n",
       "      <td>0.012</td>\n",
       "      <td>0.100</td>\n",
       "      <td>Albany</td>\n",
       "      <td>NY</td>\n",
       "      <td>36</td>\n",
       "      <td>G36001000</td>\n",
       "      <td>New York</td>\n",
       "      <td>Albany city</td>\n",
       "    </tr>\n",
       "    <tr>\n",
       "      <th>4</th>\n",
       "      <td>Albuquerque, NM</td>\n",
       "      <td>-0.007</td>\n",
       "      <td>0.007</td>\n",
       "      <td>Albuquerque</td>\n",
       "      <td>NM</td>\n",
       "      <td>35</td>\n",
       "      <td>G35002000</td>\n",
       "      <td>New Mexico</td>\n",
       "      <td>Albuquerque city</td>\n",
       "    </tr>\n",
       "  </tbody>\n",
       "</table>\n",
       "</div>"
      ],
      "text/plain": [
       "    city_and_state  black_pop_pct_chg_1940_1970  black_pop_pct_chg_1910_1940  \\\n",
       "0     Aberdeen, SD                       -0.005                        0.000   \n",
       "1      Abilene, TX                       -0.008                        0.001   \n",
       "2        Akron, OH                        0.041                        0.125   \n",
       "3       Albany, NY                        0.012                        0.100   \n",
       "4  Albuquerque, NM                       -0.007                        0.007   \n",
       "\n",
       "          city state state_fips    GISJOIN    state_full             place  \n",
       "0     Aberdeen    SD         46  G46000100  South Dakota     Aberdeen city  \n",
       "1      Abilene    TX         48  G48001000         Texas      Abilene city  \n",
       "2        Akron    OH         39  G39001000          Ohio        Akron city  \n",
       "3       Albany    NY         36  G36001000      New York       Albany city  \n",
       "4  Albuquerque    NM         35  G35002000    New Mexico  Albuquerque city  "
      ]
     },
     "execution_count": 23,
     "metadata": {},
     "output_type": "execute_result"
    }
   ],
   "source": [
    "df.head()"
   ]
  },
  {
   "cell_type": "markdown",
   "id": "d785c14a-0e83-40dd-a2da-55deea60d7ff",
   "metadata": {},
   "source": [
    "`us` isn't recognizing DC for some reason so we'll need to add it manually. Making sure it worked!"
   ]
  },
  {
   "cell_type": "code",
   "execution_count": 24,
   "id": "d3550e9a-401c-49c6-84f0-984ae784d728",
   "metadata": {},
   "outputs": [
    {
     "data": {
      "text/html": [
       "<div>\n",
       "<style scoped>\n",
       "    .dataframe tbody tr th:only-of-type {\n",
       "        vertical-align: middle;\n",
       "    }\n",
       "\n",
       "    .dataframe tbody tr th {\n",
       "        vertical-align: top;\n",
       "    }\n",
       "\n",
       "    .dataframe thead th {\n",
       "        text-align: right;\n",
       "    }\n",
       "</style>\n",
       "<table border=\"1\" class=\"dataframe\">\n",
       "  <thead>\n",
       "    <tr style=\"text-align: right;\">\n",
       "      <th></th>\n",
       "      <th>city_and_state</th>\n",
       "      <th>black_pop_pct_chg_1940_1970</th>\n",
       "      <th>black_pop_pct_chg_1910_1940</th>\n",
       "      <th>city</th>\n",
       "      <th>state</th>\n",
       "      <th>state_fips</th>\n",
       "      <th>GISJOIN</th>\n",
       "      <th>state_full</th>\n",
       "      <th>place</th>\n",
       "    </tr>\n",
       "  </thead>\n",
       "  <tbody>\n",
       "    <tr>\n",
       "      <th>234</th>\n",
       "      <td>Washington, DC</td>\n",
       "      <td>-0.003</td>\n",
       "      <td>0.428</td>\n",
       "      <td>Washington</td>\n",
       "      <td>DC</td>\n",
       "      <td>11</td>\n",
       "      <td>G11050000</td>\n",
       "      <td>District Of Columbia</td>\n",
       "      <td>Washington city</td>\n",
       "    </tr>\n",
       "  </tbody>\n",
       "</table>\n",
       "</div>"
      ],
      "text/plain": [
       "     city_and_state  black_pop_pct_chg_1940_1970  black_pop_pct_chg_1910_1940  \\\n",
       "234  Washington, DC                       -0.003                        0.428   \n",
       "\n",
       "           city state state_fips    GISJOIN            state_full  \\\n",
       "234  Washington    DC         11  G11050000  District Of Columbia   \n",
       "\n",
       "               place  \n",
       "234  Washington city  "
      ]
     },
     "execution_count": 24,
     "metadata": {},
     "output_type": "execute_result"
    }
   ],
   "source": [
    "df.query(\"state == 'DC'\")"
   ]
  },
  {
   "cell_type": "markdown",
   "id": "8ccd0509-ca47-473f-91dc-8c1001957b5c",
   "metadata": {},
   "source": [
    "And drop Alaska because no (recorded) Black folk moved there from 1910-1970"
   ]
  },
  {
   "cell_type": "code",
   "execution_count": 25,
   "id": "937496f4-1f17-496f-9e24-b48eb77d0030",
   "metadata": {},
   "outputs": [],
   "source": [
    "df = df.mask(df.state == \"AK\")"
   ]
  },
  {
   "cell_type": "code",
   "execution_count": 26,
   "id": "75a9a6a4-60d3-46b8-8805-b97eb1fb4d54",
   "metadata": {},
   "outputs": [
    {
     "name": "stdout",
     "output_type": "stream",
     "text": [
      "<class 'pandas.core.frame.DataFrame'>\n",
      "Int64Index: 246 entries, 0 to 245\n",
      "Data columns (total 9 columns):\n",
      " #   Column                       Non-Null Count  Dtype  \n",
      "---  ------                       --------------  -----  \n",
      " 0   city_and_state               243 non-null    object \n",
      " 1   black_pop_pct_chg_1940_1970  232 non-null    float64\n",
      " 2   black_pop_pct_chg_1910_1940  240 non-null    float64\n",
      " 3   city                         243 non-null    object \n",
      " 4   state                        243 non-null    object \n",
      " 5   state_fips                   243 non-null    object \n",
      " 6   GISJOIN                      234 non-null    object \n",
      " 7   state_full                   234 non-null    object \n",
      " 8   place                        234 non-null    object \n",
      "dtypes: float64(2), object(7)\n",
      "memory usage: 19.2+ KB\n"
     ]
    }
   ],
   "source": [
    "df.info()"
   ]
  },
  {
   "cell_type": "markdown",
   "id": "5eb725b4-b952-4569-b44f-86ce89044fec",
   "metadata": {},
   "source": [
    "## Join with shapefile data"
   ]
  },
  {
   "cell_type": "markdown",
   "id": "2465fefd-84f4-4536-a1a4-61909b1a92b4",
   "metadata": {},
   "source": [
    "load shapefile"
   ]
  },
  {
   "cell_type": "code",
   "execution_count": 27,
   "id": "4cbd7f6b-c97d-4c44-be0f-1fceab90af4a",
   "metadata": {},
   "outputs": [
    {
     "data": {
      "text/plain": [
       "'zip:///Users/kelud/Code/outliers/tasks/census/data/place_shp.zip'"
      ]
     },
     "execution_count": 27,
     "metadata": {},
     "output_type": "execute_result"
    }
   ],
   "source": [
    "zipfile = f\"zip://{str(place_shp)}\"\n",
    "zipfile"
   ]
  },
  {
   "cell_type": "code",
   "execution_count": 28,
   "id": "9bf95148-f858-488b-a1b2-e656939e951e",
   "metadata": {},
   "outputs": [
    {
     "data": {
      "text/html": [
       "<div>\n",
       "<style scoped>\n",
       "    .dataframe tbody tr th:only-of-type {\n",
       "        vertical-align: middle;\n",
       "    }\n",
       "\n",
       "    .dataframe tbody tr th {\n",
       "        vertical-align: top;\n",
       "    }\n",
       "\n",
       "    .dataframe thead th {\n",
       "        text-align: right;\n",
       "    }\n",
       "</style>\n",
       "<table border=\"1\" class=\"dataframe\">\n",
       "  <thead>\n",
       "    <tr style=\"text-align: right;\">\n",
       "      <th></th>\n",
       "      <th>GISJOIN</th>\n",
       "      <th>geometry</th>\n",
       "    </tr>\n",
       "  </thead>\n",
       "  <tbody>\n",
       "    <tr>\n",
       "      <th>0</th>\n",
       "      <td>G01000100</td>\n",
       "      <td>POINT (969164.202 -438781.620)</td>\n",
       "    </tr>\n",
       "    <tr>\n",
       "      <th>1</th>\n",
       "      <td>G01000124</td>\n",
       "      <td>POINT (1014138.580 -605274.139)</td>\n",
       "    </tr>\n",
       "    <tr>\n",
       "      <th>2</th>\n",
       "      <td>G01000460</td>\n",
       "      <td>POINT (832255.098 -396765.579)</td>\n",
       "    </tr>\n",
       "    <tr>\n",
       "      <th>3</th>\n",
       "      <td>G01000484</td>\n",
       "      <td>POINT (805355.867 -331802.213)</td>\n",
       "    </tr>\n",
       "    <tr>\n",
       "      <th>4</th>\n",
       "      <td>G01000676</td>\n",
       "      <td>POINT (767096.422 -483924.275)</td>\n",
       "    </tr>\n",
       "  </tbody>\n",
       "</table>\n",
       "</div>"
      ],
      "text/plain": [
       "     GISJOIN                         geometry\n",
       "0  G01000100   POINT (969164.202 -438781.620)\n",
       "1  G01000124  POINT (1014138.580 -605274.139)\n",
       "2  G01000460   POINT (832255.098 -396765.579)\n",
       "3  G01000484   POINT (805355.867 -331802.213)\n",
       "4  G01000676   POINT (767096.422 -483924.275)"
      ]
     },
     "execution_count": 28,
     "metadata": {},
     "output_type": "execute_result"
    }
   ],
   "source": [
    "places_gdf = gd.read_file(zipfile)\\\n",
    "    .drop(columns=[\"STATE\", \"NHGISST\", \"PLACE\", \"NAME\", \"NHGISPLACE\", \"YEAR\"])\n",
    "places_gdf.head()"
   ]
  },
  {
   "cell_type": "markdown",
   "id": "d75ede5f-53f3-464b-898b-df966e1e82ae",
   "metadata": {},
   "source": [
    "Join on GISJOIN and convert back to geodataframe for exporting"
   ]
  },
  {
   "cell_type": "code",
   "execution_count": 29,
   "id": "a3ef5bf8-6ec3-4f58-aa45-cdb8f6ce2817",
   "metadata": {},
   "outputs": [
    {
     "data": {
      "text/html": [
       "<div>\n",
       "<style scoped>\n",
       "    .dataframe tbody tr th:only-of-type {\n",
       "        vertical-align: middle;\n",
       "    }\n",
       "\n",
       "    .dataframe tbody tr th {\n",
       "        vertical-align: top;\n",
       "    }\n",
       "\n",
       "    .dataframe thead th {\n",
       "        text-align: right;\n",
       "    }\n",
       "</style>\n",
       "<table border=\"1\" class=\"dataframe\">\n",
       "  <thead>\n",
       "    <tr style=\"text-align: right;\">\n",
       "      <th></th>\n",
       "      <th>city_and_state</th>\n",
       "      <th>black_pop_pct_chg_1940_1970</th>\n",
       "      <th>black_pop_pct_chg_1910_1940</th>\n",
       "      <th>city</th>\n",
       "      <th>state</th>\n",
       "      <th>state_fips</th>\n",
       "      <th>GISJOIN</th>\n",
       "      <th>state_full</th>\n",
       "      <th>place</th>\n",
       "      <th>geometry</th>\n",
       "    </tr>\n",
       "  </thead>\n",
       "  <tbody>\n",
       "    <tr>\n",
       "      <th>0</th>\n",
       "      <td>Aberdeen, SD</td>\n",
       "      <td>-0.005</td>\n",
       "      <td>0.000</td>\n",
       "      <td>Aberdeen</td>\n",
       "      <td>SD</td>\n",
       "      <td>46</td>\n",
       "      <td>G46000100</td>\n",
       "      <td>South Dakota</td>\n",
       "      <td>Aberdeen city</td>\n",
       "      <td>POINT (-194419.164 893159.765)</td>\n",
       "    </tr>\n",
       "    <tr>\n",
       "      <th>1</th>\n",
       "      <td>Abilene, TX</td>\n",
       "      <td>-0.008</td>\n",
       "      <td>0.001</td>\n",
       "      <td>Abilene</td>\n",
       "      <td>TX</td>\n",
       "      <td>48</td>\n",
       "      <td>G48001000</td>\n",
       "      <td>Texas</td>\n",
       "      <td>Abilene city</td>\n",
       "      <td>POINT (-349019.448 -558131.744)</td>\n",
       "    </tr>\n",
       "    <tr>\n",
       "      <th>2</th>\n",
       "      <td>Akron, OH</td>\n",
       "      <td>0.041</td>\n",
       "      <td>0.125</td>\n",
       "      <td>Akron</td>\n",
       "      <td>OH</td>\n",
       "      <td>39</td>\n",
       "      <td>G39001000</td>\n",
       "      <td>Ohio</td>\n",
       "      <td>Akron city</td>\n",
       "      <td>POINT (1202296.527 493103.623)</td>\n",
       "    </tr>\n",
       "    <tr>\n",
       "      <th>3</th>\n",
       "      <td>Albany, NY</td>\n",
       "      <td>0.012</td>\n",
       "      <td>0.100</td>\n",
       "      <td>Albany</td>\n",
       "      <td>NY</td>\n",
       "      <td>36</td>\n",
       "      <td>G36001000</td>\n",
       "      <td>New York</td>\n",
       "      <td>Albany city</td>\n",
       "      <td>POINT (1796324.345 788287.140)</td>\n",
       "    </tr>\n",
       "    <tr>\n",
       "      <th>4</th>\n",
       "      <td>Albuquerque, NM</td>\n",
       "      <td>-0.007</td>\n",
       "      <td>0.007</td>\n",
       "      <td>Albuquerque</td>\n",
       "      <td>NM</td>\n",
       "      <td>35</td>\n",
       "      <td>G35002000</td>\n",
       "      <td>New Mexico</td>\n",
       "      <td>Albuquerque city</td>\n",
       "      <td>POINT (-961036.224 -216619.772)</td>\n",
       "    </tr>\n",
       "  </tbody>\n",
       "</table>\n",
       "</div>"
      ],
      "text/plain": [
       "    city_and_state  black_pop_pct_chg_1940_1970  black_pop_pct_chg_1910_1940  \\\n",
       "0     Aberdeen, SD                       -0.005                        0.000   \n",
       "1      Abilene, TX                       -0.008                        0.001   \n",
       "2        Akron, OH                        0.041                        0.125   \n",
       "3       Albany, NY                        0.012                        0.100   \n",
       "4  Albuquerque, NM                       -0.007                        0.007   \n",
       "\n",
       "          city state state_fips    GISJOIN    state_full             place  \\\n",
       "0     Aberdeen    SD         46  G46000100  South Dakota     Aberdeen city   \n",
       "1      Abilene    TX         48  G48001000         Texas      Abilene city   \n",
       "2        Akron    OH         39  G39001000          Ohio        Akron city   \n",
       "3       Albany    NY         36  G36001000      New York       Albany city   \n",
       "4  Albuquerque    NM         35  G35002000    New Mexico  Albuquerque city   \n",
       "\n",
       "                          geometry  \n",
       "0   POINT (-194419.164 893159.765)  \n",
       "1  POINT (-349019.448 -558131.744)  \n",
       "2   POINT (1202296.527 493103.623)  \n",
       "3   POINT (1796324.345 788287.140)  \n",
       "4  POINT (-961036.224 -216619.772)  "
      ]
     },
     "execution_count": 29,
     "metadata": {},
     "output_type": "execute_result"
    }
   ],
   "source": [
    "gdf = gd.GeoDataFrame(pd.merge(\n",
    "    df,\n",
    "    places_gdf,\n",
    "    how=\"left\",\n",
    "    on=[\"GISJOIN\"]\n",
    "))\n",
    "gdf.head()"
   ]
  },
  {
   "cell_type": "code",
   "execution_count": 30,
   "id": "e91a0de4-6b86-42ca-8d95-aef1fe02cfbd",
   "metadata": {},
   "outputs": [
    {
     "data": {
      "text/plain": [
       "<Derived Projected CRS: ESRI:102003>\n",
       "Name: USA_Contiguous_Albers_Equal_Area_Conic\n",
       "Axis Info [cartesian]:\n",
       "- [east]: Easting (metre)\n",
       "- [north]: Northing (metre)\n",
       "Area of Use:\n",
       "- undefined\n",
       "Coordinate Operation:\n",
       "- name: unnamed\n",
       "- method: Albers Equal Area\n",
       "Datum: North American Datum 1983\n",
       "- Ellipsoid: GRS 1980\n",
       "- Prime Meridian: Greenwich"
      ]
     },
     "execution_count": 30,
     "metadata": {},
     "output_type": "execute_result"
    }
   ],
   "source": [
    "gdf.crs"
   ]
  },
  {
   "cell_type": "markdown",
   "id": "3974ad8b-9367-4b1a-bcc5-e5fced21d876",
   "metadata": {},
   "source": [
    "Reproject as WGS84"
   ]
  },
  {
   "cell_type": "code",
   "execution_count": 31,
   "id": "ac82a4a7-8cfb-4e33-8810-9a1131b2b78a",
   "metadata": {},
   "outputs": [
    {
     "data": {
      "text/plain": [
       "<AxesSubplot:>"
      ]
     },
     "execution_count": 31,
     "metadata": {},
     "output_type": "execute_result"
    },
    {
     "data": {
      "image/png": "[encoded data removed]",
      "text/plain": [
       "<Figure size 432x288 with 1 Axes>"
      ]
     },
     "metadata": {
      "needs_background": "light"
     },
     "output_type": "display_data"
    }
   ],
   "source": [
    "gdf.plot()"
   ]
  },
  {
   "cell_type": "markdown",
   "id": "14112ef4-45e4-42d3-9f2e-b36d9a75c792",
   "metadata": {},
   "source": [
    "Reproject as WGS84"
   ]
  },
  {
   "cell_type": "code",
   "execution_count": 32,
   "id": "f83b39b8-d78f-47a4-9c99-189cca8a019f",
   "metadata": {},
   "outputs": [
    {
     "data": {
      "text/plain": [
       "<AxesSubplot:>"
      ]
     },
     "execution_count": 32,
     "metadata": {},
     "output_type": "execute_result"
    },
    {
     "data": {
      "image/png": "[encoded data removed]",
      "text/plain": [
       "<Figure size 432x288 with 1 Axes>"
      ]
     },
     "metadata": {
      "needs_background": "light"
     },
     "output_type": "display_data"
    }
   ],
   "source": [
    "gdf = gdf.to_crs(\"EPSG:4326\")\n",
    "gdf.plot()"
   ]
  },
  {
   "cell_type": "markdown",
   "id": "b13bc070-9e53-40b6-8bcb-50546badd334",
   "metadata": {},
   "source": [
    "## Export"
   ]
  },
  {
   "cell_type": "code",
   "execution_count": 33,
   "id": "1d49ed74-dbef-48ad-856d-ddc82d33d9ca",
   "metadata": {},
   "outputs": [
    {
     "data": {
      "text/plain": [
       "PosixPath('/Users/kelud/Code/outliers/src/data/great-migration-places-geo.json')"
      ]
     },
     "execution_count": 33,
     "metadata": {},
     "output_type": "execute_result"
    }
   ],
   "source": [
    "filename = EXPORT_DIR.joinpath(\"great-migration-places-geo.json\")\n",
    "filename"
   ]
  },
  {
   "cell_type": "code",
   "execution_count": 34,
   "id": "35a05db3-81f7-47a0-8dba-182b01dbf025",
   "metadata": {},
   "outputs": [],
   "source": [
    "gdf.to_file(filename, driver=\"GeoJSON\")"
   ]
  }
 ],
 "metadata": {
  "kernelspec": {
   "display_name": "Python 3 (ipykernel)",
   "language": "python",
   "name": "python3"
  },
  "language_info": {
   "codemirror_mode": {
    "name": "ipython",
    "version": 3
   },
   "file_extension": ".py",
   "mimetype": "text/x-python",
   "name": "python",
   "nbconvert_exporter": "python",
   "pygments_lexer": "ipython3",
   "version": "3.10.5"
  }
 },
 "nbformat": 4,
 "nbformat_minor": 5
}
